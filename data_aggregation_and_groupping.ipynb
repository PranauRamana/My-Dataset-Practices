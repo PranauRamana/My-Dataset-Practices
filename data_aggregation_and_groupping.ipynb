{
  "nbformat": 4,
  "nbformat_minor": 0,
  "metadata": {
    "colab": {
      "provenance": []
    },
    "kernelspec": {
      "name": "python3",
      "display_name": "Python 3"
    },
    "language_info": {
      "name": "python"
    }
  },
  "cells": [
    {
      "cell_type": "markdown",
      "source": [
        "# Data Aggregation"
      ],
      "metadata": {
        "id": "WtUwVISQbfmj"
      }
    },
    {
      "cell_type": "code",
      "execution_count": null,
      "metadata": {
        "colab": {
          "base_uri": "https://localhost:8080/"
        },
        "id": "P4g_ncombdaj",
        "outputId": "3d981e41-3734-43ce-e93a-e7f6b32e982b"
      },
      "outputs": [
        {
          "output_type": "stream",
          "name": "stdout",
          "text": [
            "Total Sum: 45\n",
            "Average: 5.0\n",
            "Row Sums: [ 6 15 24]\n",
            "Max Value: 9\n",
            "Min Value: 1\n",
            "[[1 2 3]\n",
            " [4 5 6]\n",
            " [7 8 9]]\n"
          ]
        }
      ],
      "source": [
        "import numpy as np\n",
        "\n",
        "data = np.array([[1, 2, 3],\n",
        "                 [4, 5, 6],\n",
        "                 [7, 8, 9]])\n",
        "\n",
        "# Sum of all elements in the array\n",
        "total_sum = np.sum(data)\n",
        "print(\"Total Sum:\", total_sum)\n",
        "\n",
        "# Mean of all elements in the array\n",
        "average = np.mean(data)\n",
        "print(\"Average:\", average)\n",
        "\n",
        "# Sum along the rows (axis=1)\n",
        "row_sums = np.sum(data, axis=1)\n",
        "print(\"Row Sums:\", row_sums)\n",
        "\n",
        "# Maximum value in the array\n",
        "max_value = np.max(data)\n",
        "print(\"Max Value:\", max_value)\n",
        "\n",
        "# Minimum value in the array\n",
        "min_value = np.min(data)\n",
        "print(\"Min Value:\", min_value)\n",
        "print(data)"
      ]
    },
    {
      "cell_type": "markdown",
      "source": [
        "# Data Grouping"
      ],
      "metadata": {
        "id": "imEILoVmdDdC"
      }
    },
    {
      "cell_type": "code",
      "source": [
        "import numpy as np\n",
        "\n",
        "data = np.array(['A', 'B', 'A', 'C', 'B', 'A', 'C'])\n",
        "\n",
        "# Find unique values and their counts\n",
        "unique_values, value_counts = np.unique(data, return_counts=True)\n",
        "print(\"Unique Values:\", unique_values)\n",
        "print(\"Value Counts:\", value_counts)\n",
        "\n",
        "# Group data based on unique values\n",
        "grouped_data = {}\n",
        "for unique_value in unique_values:\n",
        "    grouped_data[unique_value] = data[data == unique_value]\n",
        "\n",
        "# Print the groups\n",
        "for key, value in grouped_data.items():\n",
        "    print(\"Group:\", key, \"->\", value)"
      ],
      "metadata": {
        "colab": {
          "base_uri": "https://localhost:8080/"
        },
        "id": "Ox1miP7ebjXy",
        "outputId": "f9958ba7-22fb-4e77-9e38-ebc8b3419e4e"
      },
      "execution_count": null,
      "outputs": [
        {
          "output_type": "stream",
          "name": "stdout",
          "text": [
            "Unique Values: ['A' 'B' 'C']\n",
            "Value Counts: [3 2 2]\n",
            "Group: A -> ['A' 'A' 'A']\n",
            "Group: B -> ['B' 'B']\n",
            "Group: C -> ['C' 'C']\n"
          ]
        }
      ]
    },
    {
      "cell_type": "markdown",
      "source": [
        "# Data Splitting"
      ],
      "metadata": {
        "id": "MVb3xUooebAB"
      }
    },
    {
      "cell_type": "code",
      "source": [
        "import pandas as pd\n",
        "\n",
        "data = pd.DataFrame({'A': [1, 2, 3, 4, 5],\n",
        "                     'B': ['a', 'b', 'c', 'd', 'e']})\n",
        "\n",
        "# Split the data into training and testing sets (80% train, 20% test)\n",
        "from sklearn.model_selection import train_test_split\n",
        "\n",
        "train_data, test_data = train_test_split(data, test_size=0.2, random_state=42)"
      ],
      "metadata": {
        "id": "Ar6sTkZKdGMz"
      },
      "execution_count": null,
      "outputs": []
    },
    {
      "cell_type": "code",
      "source": [
        "print(\"Training Data:\")\n",
        "print(train_data)"
      ],
      "metadata": {
        "colab": {
          "base_uri": "https://localhost:8080/"
        },
        "id": "o0CBvM8Nefbc",
        "outputId": "383edb1d-47f4-43af-c6eb-976fceb01642"
      },
      "execution_count": null,
      "outputs": [
        {
          "output_type": "stream",
          "name": "stdout",
          "text": [
            "Training Data:\n",
            "   A  B\n",
            "4  5  e\n",
            "2  3  c\n",
            "0  1  a\n",
            "3  4  d\n"
          ]
        }
      ]
    },
    {
      "cell_type": "code",
      "source": [
        "print(\"Testing Data:\")\n",
        "print(test_data)"
      ],
      "metadata": {
        "colab": {
          "base_uri": "https://localhost:8080/"
        },
        "id": "k2TZAf6YehRC",
        "outputId": "4dcfa03e-249b-4127-93f5-9301517bbc8d"
      },
      "execution_count": null,
      "outputs": [
        {
          "output_type": "stream",
          "name": "stdout",
          "text": [
            "Testing Data:\n",
            "   A  B\n",
            "1  2  b\n"
          ]
        }
      ]
    },
    {
      "cell_type": "code",
      "source": [],
      "metadata": {
        "id": "wQDJrc1WeiR9"
      },
      "execution_count": null,
      "outputs": []
    }
  ]
}