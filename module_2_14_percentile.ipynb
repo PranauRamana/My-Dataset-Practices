{
 "cells": [
  {
   "cell_type": "code",
   "execution_count": 3,
   "id": "5b41a6cb",
   "metadata": {},
   "outputs": [
    {
     "name": "stdout",
     "output_type": "stream",
     "text": [
      "Percentile: 50.0\n"
     ]
    }
   ],
   "source": [
    "import numpy as np\n",
    "\n",
    "# Example dataset\n",
    "data = np.array([10, 20, 30, 40, 50, 60, 70, 80, 90])\n",
    "\n",
    "# Value for which percentile is to be calculated\n",
    "value = 55\n",
    "\n",
    "# Sort the dataset in ascending order\n",
    "sorted_data = np.sort(data)\n",
    "\n",
    "# Calculate the rank of the value\n",
    "rank = np.searchsorted(sorted_data, value)\n",
    "\n",
    "# Calculate the percentile\n",
    "percentile = (rank / (len(sorted_data) + 1)) * 100\n",
    "\n",
    "print(\"Percentile:\", percentile)"
   ]
  },
  {
   "cell_type": "code",
   "execution_count": null,
   "id": "9e87b055",
   "metadata": {},
   "outputs": [],
   "source": []
  }
 ],
 "metadata": {
  "kernelspec": {
   "display_name": "Python 3 (ipykernel)",
   "language": "python",
   "name": "python3"
  },
  "language_info": {
   "codemirror_mode": {
    "name": "ipython",
    "version": 3
   },
   "file_extension": ".py",
   "mimetype": "text/x-python",
   "name": "python",
   "nbconvert_exporter": "python",
   "pygments_lexer": "ipython3",
   "version": "3.9.13"
  }
 },
 "nbformat": 4,
 "nbformat_minor": 5
}
